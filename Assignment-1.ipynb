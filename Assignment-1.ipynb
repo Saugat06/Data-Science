{
 "cells": [
  {
   "cell_type": "markdown",
   "id": "353a0535-0da8-4b50-9b6b-001568c50327",
   "metadata": {},
   "source": [
    "4. Create a list of your favorite movies and print it. Then, append a new movie to the list and print the updated list."
   ]
  },
  {
   "cell_type": "code",
   "execution_count": 2,
   "id": "2e6ae745-beb2-49b5-8cb2-463556e1b94a",
   "metadata": {},
   "outputs": [
    {
     "data": {
      "text/plain": [
       "['Pashupati Prasad', 'Balidan', 'Chakka Panja', 'Hami tin Bhai']"
      ]
     },
     "execution_count": 2,
     "metadata": {},
     "output_type": "execute_result"
    }
   ],
   "source": [
    "list_movies=['Pashupati Prasad', 'Balidan', 'Chakka Panja', 'Hami tin Bhai']\n",
    "list_movies"
   ]
  },
  {
   "cell_type": "code",
   "execution_count": 5,
   "id": "b98712af-637e-4f63-8524-e1c5c5898f83",
   "metadata": {},
   "outputs": [
    {
     "data": {
      "text/plain": [
       "['Pashupati Prasad',\n",
       " 'Balidan',\n",
       " 'Chakka Panja',\n",
       " 'Hami tin Bhai',\n",
       " 'Satru gate',\n",
       " 'Satru gate']"
      ]
     },
     "execution_count": 5,
     "metadata": {},
     "output_type": "execute_result"
    }
   ],
   "source": [
    "list_movies.append('Satru gate')\n",
    "list_movies\n"
   ]
  },
  {
   "cell_type": "markdown",
   "id": "f252492d-01dd-4b10-8735-f51611a1a603",
   "metadata": {},
   "source": [
    "5. Create a list of integers from 1 to 10 and print it. Calculate the sum of all the numbers in the list and print the result."
   ]
  },
  {
   "cell_type": "code",
   "execution_count": 7,
   "id": "8904690d-0952-4c49-ba2e-da0466d3e961",
   "metadata": {},
   "outputs": [
    {
     "data": {
      "text/plain": [
       "[1, 2, 3, 4, 5, 6, 7, 8, 9, 10]"
      ]
     },
     "execution_count": 7,
     "metadata": {},
     "output_type": "execute_result"
    }
   ],
   "source": [
    "list_integer=list(range(1,11))\n",
    "list_integer"
   ]
  },
  {
   "cell_type": "code",
   "execution_count": 10,
   "id": "50fc6ecb-381e-4743-946e-55a252b60333",
   "metadata": {},
   "outputs": [
    {
     "data": {
      "text/plain": [
       "55"
      ]
     },
     "execution_count": 10,
     "metadata": {},
     "output_type": "execute_result"
    }
   ],
   "source": [
    "sum(list_integer)"
   ]
  },
  {
   "cell_type": "markdown",
   "id": "b2f53c6b-8482-42ea-b8ba-fb4e7a1b0104",
   "metadata": {},
   "source": [
    "6. Create a list of mixed data types including strings, integers, and floats and print it. Remove the first element from the list and print the modified list."
   ]
  },
  {
   "cell_type": "code",
   "execution_count": 12,
   "id": "913df03a-d74b-453b-a38b-29a186f95bfc",
   "metadata": {},
   "outputs": [
    {
     "data": {
      "text/plain": [
       "[1, 2, 3, 4, 'data', 'science', 2.3, 4.6]"
      ]
     },
     "execution_count": 12,
     "metadata": {},
     "output_type": "execute_result"
    }
   ],
   "source": [
    "list_data=[1,2,3,4,'data','science',2.3,4.6]\n",
    "list_data"
   ]
  },
  {
   "cell_type": "code",
   "execution_count": 14,
   "id": "7553ff89-d223-4485-bca1-32d9e0ca3e2a",
   "metadata": {},
   "outputs": [
    {
     "data": {
      "text/plain": [
       "[3, 4, 'data', 'science', 2.3, 4.6]"
      ]
     },
     "execution_count": 14,
     "metadata": {},
     "output_type": "execute_result"
    }
   ],
   "source": [
    "list_data.pop(0)\n",
    "list_data"
   ]
  },
  {
   "cell_type": "markdown",
   "id": "abdb025b-b7a2-4098-9a1d-e8bbf4af3504",
   "metadata": {},
   "source": [
    "7. Create a tuple containing the names of the days of the week and print it. Access and print the name of the third day."
   ]
  },
  {
   "cell_type": "code",
   "execution_count": 16,
   "id": "a40fed63-4a5a-4195-8844-87e7a0e635ce",
   "metadata": {},
   "outputs": [
    {
     "data": {
      "text/plain": [
       "('sunday', 'monday', 'tuesday', 'wednesdday', 'thursday', 'friday', 'saturday')"
      ]
     },
     "execution_count": 16,
     "metadata": {},
     "output_type": "execute_result"
    }
   ],
   "source": [
    "days=('sunday','monday','tuesday','wednesdday','thursday','friday','saturday')\n",
    "days"
   ]
  },
  {
   "cell_type": "code",
   "execution_count": 19,
   "id": "49c0b25c-1ad9-40fc-b7f9-408023f028a8",
   "metadata": {},
   "outputs": [
    {
     "data": {
      "text/plain": [
       "'tuesday'"
      ]
     },
     "execution_count": 19,
     "metadata": {},
     "output_type": "execute_result"
    }
   ],
   "source": [
    "days[2]"
   ]
  },
  {
   "cell_type": "markdown",
   "id": "ad2e4fb4-46c0-4aa3-9861-b80f71e90132",
   "metadata": {},
   "source": [
    "8. Create a tuple of your favorite colors and print it. Check if a certain color is present in the tuple and print the result."
   ]
  },
  {
   "cell_type": "code",
   "execution_count": 32,
   "id": "04eba00e-520a-4543-a12c-72c7225408b2",
   "metadata": {},
   "outputs": [
    {
     "data": {
      "text/plain": [
       "('red', 'white', 'blue', 'orange')"
      ]
     },
     "execution_count": 32,
     "metadata": {},
     "output_type": "execute_result"
    }
   ],
   "source": [
    "color=('red','white','blue','orange')\n",
    "color"
   ]
  },
  {
   "cell_type": "code",
   "execution_count": 33,
   "id": "451fa794-026d-4a16-8baa-4457c329dcb5",
   "metadata": {},
   "outputs": [
    {
     "name": "stdout",
     "output_type": "stream",
     "text": [
      "No\n"
     ]
    }
   ],
   "source": [
    "if 'black' in color:\n",
    "    print('yes')\n",
    "else:\n",
    "    print('No')"
   ]
  },
  {
   "cell_type": "code",
   "execution_count": 35,
   "id": "d0b78031-d0d2-4d35-9673-d177de1057d8",
   "metadata": {},
   "outputs": [
    {
     "name": "stdout",
     "output_type": "stream",
     "text": [
      "yes\n"
     ]
    }
   ],
   "source": [
    "if 'red' in color:\n",
    "    print('yes')\n",
    "else:\n",
    "    print('No')"
   ]
  },
  {
   "cell_type": "markdown",
   "id": "22c1ea08-919a-4a06-937d-b3897d0ed9f5",
   "metadata": {},
   "source": [
    "9. Create a dictionary representing the information of a book with keys \"title\", \"author\", and \"year\" and print it. Update the year of the book and print the updated dictionary."
   ]
  },
  {
   "cell_type": "code",
   "execution_count": 50,
   "id": "b8d3892e-2c6d-4c61-b7a7-ca38074ebd3f",
   "metadata": {},
   "outputs": [
    {
     "data": {
      "text/plain": [
       "{'title': 'Muna Madan', 'author': 'Laxmi Prasad Devkota', 'Year': 1962}"
      ]
     },
     "execution_count": 50,
     "metadata": {},
     "output_type": "execute_result"
    }
   ],
   "source": [
    "book = {\n",
    "    'title': 'Muna Madan',\n",
    "    'author':'Laxmi Prasad Devkota',\n",
    "    'Year':1962\n",
    "}\n",
    "book"
   ]
  },
  {
   "cell_type": "code",
   "execution_count": 52,
   "id": "c0c70a3d-3daf-47ce-b1c5-885dd2578c7f",
   "metadata": {},
   "outputs": [
    {
     "data": {
      "text/plain": [
       "{'title': 'Muna Madan', 'author': 'Laxmi Prasad Devkota', 'Year': 1965}"
      ]
     },
     "execution_count": 52,
     "metadata": {},
     "output_type": "execute_result"
    }
   ],
   "source": [
    "book['Year']=1965\n",
    "book"
   ]
  },
  {
   "cell_type": "markdown",
   "id": "1a9808fd-29da-4b3e-9971-ac80153a65d0",
   "metadata": {},
   "source": [
    "10. Create a dictionary containing the names of fruits as keys and their corresponding colors as values and print it. Add a new fruit-color pair to the dictionary and print the updated dictionary"
   ]
  },
  {
   "cell_type": "code",
   "execution_count": 56,
   "id": "348b5bc6-f443-4ab7-85be-ac85d37108b4",
   "metadata": {},
   "outputs": [
    {
     "data": {
      "text/plain": [
       "{'apple': 'green', 'orange': 'Orange', 'banana': 'yellow'}"
      ]
     },
     "execution_count": 56,
     "metadata": {},
     "output_type": "execute_result"
    }
   ],
   "source": [
    "fruit = {\n",
    "'apple' : 'green',\n",
    "    'orange' : 'Orange',\n",
    "'banana' : 'yellow'\n",
    "}\n",
    "fruit"
   ]
  },
  {
   "cell_type": "code",
   "execution_count": 58,
   "id": "bd9d9686-f612-42a1-a3b1-8673a94fedf9",
   "metadata": {},
   "outputs": [
    {
     "data": {
      "text/plain": [
       "{'apple': 'green', 'orange': 'Orange', 'banana': 'yellow', 'grapes': 'black'}"
      ]
     },
     "execution_count": 58,
     "metadata": {},
     "output_type": "execute_result"
    }
   ],
   "source": [
    "fruit['grapes']='black'\n",
    "fruit"
   ]
  },
  {
   "cell_type": "markdown",
   "id": "da502091-b573-4382-bdcf-2b872345af7a",
   "metadata": {},
   "source": [
    "11. Create a dictionary representing the population of different cities with keys as city names and values as population numbers and print it. Remove a city from the dictionary and print the modified dictionary."
   ]
  },
  {
   "cell_type": "code",
   "execution_count": 65,
   "id": "53f0605f-b73d-4386-8e09-03e29460246c",
   "metadata": {},
   "outputs": [
    {
     "data": {
      "text/plain": [
       "{'Kathmandu': 100000, 'Pokhara': 40000, 'chitwan': 50000}"
      ]
     },
     "execution_count": 65,
     "metadata": {},
     "output_type": "execute_result"
    }
   ],
   "source": [
    "City = {\n",
    "    'Kathmandu' : 100000,\n",
    "    'Pokhara' : 40000,\n",
    " 'chitwan' : 50000\n",
    "}\n",
    "City"
   ]
  },
  {
   "cell_type": "code",
   "execution_count": 67,
   "id": "eb0ed38a-5e3b-475a-8838-cb2a887858d8",
   "metadata": {},
   "outputs": [
    {
     "data": {
      "text/plain": [
       "{'Kathmandu': 100000, 'chitwan': 50000}"
      ]
     },
     "execution_count": 67,
     "metadata": {},
     "output_type": "execute_result"
    }
   ],
   "source": [
    "del City['Pokhara']\n",
    "City"
   ]
  }
 ],
 "metadata": {
  "kernelspec": {
   "display_name": "Python 3 (ipykernel)",
   "language": "python",
   "name": "python3"
  },
  "language_info": {
   "codemirror_mode": {
    "name": "ipython",
    "version": 3
   },
   "file_extension": ".py",
   "mimetype": "text/x-python",
   "name": "python",
   "nbconvert_exporter": "python",
   "pygments_lexer": "ipython3",
   "version": "3.11.7"
  }
 },
 "nbformat": 4,
 "nbformat_minor": 5
}
